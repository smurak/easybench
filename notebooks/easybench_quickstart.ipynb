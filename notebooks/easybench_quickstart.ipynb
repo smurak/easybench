{
 "cells": [
  {
   "cell_type": "markdown",
   "id": "0",
   "metadata": {},
   "source": [
    "## EasyBench Quick Start Notebook "
   ]
  },
  {
   "cell_type": "markdown",
   "id": "1",
   "metadata": {},
   "source": [
    "### Installation"
   ]
  },
  {
   "cell_type": "code",
   "execution_count": null,
   "id": "2",
   "metadata": {},
   "outputs": [],
   "source": [
    "# Install easybench with visualization support\n",
    "%pip install -q easybench[all]"
   ]
  },
  {
   "cell_type": "markdown",
   "id": "3",
   "metadata": {},
   "source": [
    "### Quick Start\n",
    "\n",
    "There are 3 ways to benchmark with `easybench`:"
   ]
  },
  {
   "cell_type": "markdown",
   "id": "4",
   "metadata": {},
   "source": [
    "#### 1. `@bench` decorator"
   ]
  },
  {
   "cell_type": "code",
   "execution_count": null,
   "id": "5",
   "metadata": {},
   "outputs": [],
   "source": [
    "from easybench import bench\n",
    "\n",
    "\n",
    "# Add @bench with function parameters\n",
    "@bench(item=123, big_list=lambda: list(range(1_000_000)))\n",
    "def insert_first(item, big_list):\n",
    "    big_list.insert(0, item)"
   ]
  },
  {
   "cell_type": "markdown",
   "id": "6",
   "metadata": {},
   "source": [
    "<div style=\"background-color: #dff0d8; color: #3c763d; padding: 10px; border-left: 6px solid #5cb85c; margin-bottom: 10px;\">\n",
    "<b>💡 TIP</b><br> \n",
    "When you need fresh data for each trial, use a function or lambda to generate new data on demand.  \n",
    "(like <code>lambda: list(range(1_000_000))</code> in the above)\n",
    "</div>"
   ]
  },
  {
   "cell_type": "markdown",
   "id": "7",
   "metadata": {},
   "source": [
    "#### 2. `EasyBench` class"
   ]
  },
  {
   "cell_type": "code",
   "execution_count": null,
   "id": "8",
   "metadata": {},
   "outputs": [],
   "source": [
    "from easybench import BenchConfig, EasyBench\n",
    "\n",
    "\n",
    "class BenchListOperation(EasyBench):\n",
    "    # Benchmark configuration\n",
    "    bench_config = BenchConfig(\n",
    "        trials=10,\n",
    "        memory=True,\n",
    "        sort_by=\"avg\",\n",
    "    )\n",
    "\n",
    "    # Setup for each trial\n",
    "    def setup_trial(self):\n",
    "        self.big_list = list(range(1_000_000))\n",
    "\n",
    "    # Benchmark methods (must start with bench_)\n",
    "    def bench_insert_first(self):\n",
    "        self.big_list.insert(0, 123)\n",
    "\n",
    "    # You can define multiple benchmark methods\n",
    "    def bench_pop_first(self):\n",
    "        self.big_list.pop(0)\n",
    "\n",
    "if __name__ == \"__main__\":\n",
    "    # Run benchmark\n",
    "    BenchListOperation().bench()"
   ]
  },
  {
   "cell_type": "markdown",
   "id": "9",
   "metadata": {},
   "source": [
    "#### 3. `easybench` command"
   ]
  },
  {
   "cell_type": "markdown",
   "id": "10",
   "metadata": {},
   "source": [
    "1. Create a `benchmarks` directory"
   ]
  },
  {
   "cell_type": "code",
   "execution_count": null,
   "id": "11",
   "metadata": {},
   "outputs": [],
   "source": [
    "!mkdir benchmarks"
   ]
  },
  {
   "cell_type": "markdown",
   "id": "12",
   "metadata": {},
   "source": [
    "2. Put `bench_*.py` scripts in the directory:"
   ]
  },
  {
   "cell_type": "code",
   "execution_count": null,
   "id": "13",
   "metadata": {},
   "outputs": [],
   "source": [
    "%%writefile benchmarks/bench_test.py\n",
    "from easybench import fixture\n",
    "\n",
    "# Fixture for each trial\n",
    "@fixture(scope=\"trial\")\n",
    "def big_list():\n",
    "    return list(range(1_000_000))\n",
    "\n",
    "# Benchmark functions (must start with bench_)\n",
    "def bench_insert_first(big_list):\n",
    "    big_list.insert(0, 123)\n",
    "\n",
    "# You can define multiple benchmark functions\n",
    "def bench_pop_first(big_list):\n",
    "    big_list.pop(0)"
   ]
  },
  {
   "cell_type": "code",
   "execution_count": null,
   "id": "14",
   "metadata": {},
   "outputs": [],
   "source": [
    "%%writefile benchmarks/bench_test2.py\n",
    "from easybench import BenchConfig, EasyBench, customize, fixture\n",
    "\n",
    "\n",
    "@fixture(scope=\"trial\")\n",
    "def big_list():\n",
    "    return list(range(1_000_000))\n",
    "\n",
    "\n",
    "class BenchList(EasyBench):\n",
    "    bench_config = BenchConfig(\n",
    "        memory=True,\n",
    "        sort_by=\"avg\",\n",
    "        trials=100,\n",
    "        warmups=100,\n",
    "        loops_per_trial=100,\n",
    "    )\n",
    "\n",
    "    @customize(loops_per_trial=1000)\n",
    "    def bench_append(self, big_list):\n",
    "        big_list.append(-1)\n",
    "\n",
    "    def bench_insert_first(self, big_list):\n",
    "        big_list.insert(0, -1)\n",
    "\n",
    "    def bench_insert_middle(self, big_list):\n",
    "        big_list.insert(len(big_list) // 2, -1)\n",
    "\n",
    "    @customize(loops_per_trial=1000)\n",
    "    def bench_pop(self, big_list):\n",
    "        big_list.pop()\n",
    "\n",
    "    def bench_pop_zero(self, big_list):\n",
    "        big_list.pop(0)\n",
    "\n",
    "\n",
    "if __name__ == \"__main__\":\n",
    "    BenchList().bench()"
   ]
  },
  {
   "cell_type": "markdown",
   "id": "15",
   "metadata": {},
   "source": [
    "3. Run `easybench` command"
   ]
  },
  {
   "cell_type": "code",
   "execution_count": null,
   "id": "16",
   "metadata": {},
   "outputs": [],
   "source": [
    "!easybench --trials 10 --memory --sort-by avg --no-progress"
   ]
  },
  {
   "cell_type": "markdown",
   "id": "17",
   "metadata": {},
   "source": [
    "---"
   ]
  },
  {
   "cell_type": "markdown",
   "id": "18",
   "metadata": {},
   "source": [
    "### Visualization Sample"
   ]
  },
  {
   "cell_type": "code",
   "execution_count": null,
   "id": "19",
   "metadata": {},
   "outputs": [],
   "source": [
    "from easybench import BenchConfig, EasyBench, customize\n",
    "from easybench.visualization import BoxPlotFormatter, PlotReporter\n",
    "\n",
    "\n",
    "class BenchList(EasyBench):\n",
    "    bench_config = BenchConfig(\n",
    "        trials=100,\n",
    "        warmups=100,\n",
    "        loops_per_trial=100,\n",
    "        progress=True,\n",
    "        reporters=[\n",
    "            \"console\",                                # Display results on console\n",
    "            PlotReporter(\n",
    "                BoxPlotFormatter(\n",
    "                    showfliers=True,                  # Show outliers\n",
    "                    log_scale=True,                   # Use logarithmic scale\n",
    "                    engine=\"seaborn\",                 # Use seaborn as plotting engine\n",
    "                    orientation=\"horizontal\",         # Horizontal or vertical orientation\n",
    "                    width=0.5,                        # Box width (passed directly to seaborn's boxplot)\n",
    "                    linewidth=0.5,                    # Line width (passed directly to seaborn's boxplot)\n",
    "                ),\n",
    "            ),\n",
    "            (\"violinplot-sns\", {\"log_scale\": True}),  # Shorthand notation for ViolinPlotFormatter\n",
    "            (\"lineplot-sns\", {\"log_scale\": True}),\n",
    "            (\"histplot-sns\", {\"log_scale\": True}),\n",
    "            (\"barplot-sns\", {\"log_scale\": True}),\n",
    "        ],\n",
    "    )\n",
    "\n",
    "    def setup_trial(self):\n",
    "        self.big_list = list(range(1_000_000))\n",
    "\n",
    "    @customize(loops_per_trial=1000)\n",
    "    def bench_append(self):\n",
    "        self.big_list.append(-1)\n",
    "\n",
    "    def bench_insert_start(self):\n",
    "        self.big_list.insert(0, -1)\n",
    "\n",
    "    def bench_insert_middle(self):\n",
    "        self.big_list.insert(len(self.big_list) // 2, -1)\n",
    "\n",
    "    @customize(loops_per_trial=1000)\n",
    "    def bench_pop(self):\n",
    "        self.big_list.pop()\n",
    "\n",
    "    def bench_pop_zero(self):\n",
    "        self.big_list.pop(0)\n",
    "\n",
    "\n",
    "if __name__ == \"__main__\":\n",
    "    BenchList().bench()"
   ]
  }
 ],
 "metadata": {
  "kernelspec": {
   "display_name": "easybench",
   "language": "python",
   "name": "python3"
  },
  "language_info": {
   "codemirror_mode": {
    "name": "ipython",
    "version": 3
   },
   "file_extension": ".py",
   "mimetype": "text/x-python",
   "name": "python",
   "nbconvert_exporter": "python",
   "pygments_lexer": "ipython3",
   "version": "3.12.3"
  }
 },
 "nbformat": 4,
 "nbformat_minor": 5
}
